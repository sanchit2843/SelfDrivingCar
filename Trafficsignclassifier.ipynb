{
  "nbformat": 4,
  "nbformat_minor": 0,
  "metadata": {
    "colab": {
      "name": "Trafficsignclassifier.ipynb",
      "version": "0.3.2",
      "provenance": [],
      "collapsed_sections": [],
      "include_colab_link": true
    },
    "kernelspec": {
      "name": "python3",
      "display_name": "Python 3"
    },
    "accelerator": "GPU"
  },
  "cells": [
    {
      "cell_type": "markdown",
      "metadata": {
        "id": "view-in-github",
        "colab_type": "text"
      },
      "source": [
        "<a href=\"https://colab.research.google.com/github/sanchit2843/SelfDrivingCar/blob/master/Trafficsignclassifier.ipynb\" target=\"_parent\"><img src=\"https://colab.research.google.com/assets/colab-badge.svg\" alt=\"Open In Colab\"/></a>"
      ]
    },
    {
      "cell_type": "code",
      "metadata": {
        "id": "HMTTjVcClTjP",
        "colab_type": "code",
        "outputId": "1e5f07a5-d57f-4947-a4e7-bedeef8c9b25",
        "colab": {
          "base_uri": "https://localhost:8080/",
          "height": 211
        }
      },
      "source": [
        "!wget https://s3-us-west-1.amazonaws.com/udacity-selfdrivingcar/traffic-signs-data.zip"
      ],
      "execution_count": 0,
      "outputs": [
        {
          "output_type": "stream",
          "text": [
            "--2019-07-01 08:10:38--  https://s3-us-west-1.amazonaws.com/udacity-selfdrivingcar/traffic-signs-data.zip\n",
            "Resolving s3-us-west-1.amazonaws.com (s3-us-west-1.amazonaws.com)... 52.219.116.33\n",
            "Connecting to s3-us-west-1.amazonaws.com (s3-us-west-1.amazonaws.com)|52.219.116.33|:443... connected.\n",
            "HTTP request sent, awaiting response... 200 OK\n",
            "Length: 123524425 (118M) [application/zip]\n",
            "Saving to: ‘traffic-signs-data.zip’\n",
            "\n",
            "traffic-signs-data. 100%[===================>] 117.80M  36.4MB/s    in 3.2s    \n",
            "\n",
            "2019-07-01 08:10:41 (36.4 MB/s) - ‘traffic-signs-data.zip’ saved [123524425/123524425]\n",
            "\n"
          ],
          "name": "stdout"
        }
      ]
    },
    {
      "cell_type": "code",
      "metadata": {
        "id": "Up0mwUUnlivh",
        "colab_type": "code",
        "outputId": "f03c959e-4c25-4944-fae3-1f816f73779b",
        "colab": {
          "base_uri": "https://localhost:8080/",
          "height": 87
        }
      },
      "source": [
        "!unzip traffic-signs-data.zip"
      ],
      "execution_count": 0,
      "outputs": [
        {
          "output_type": "stream",
          "text": [
            "Archive:  traffic-signs-data.zip\n",
            "  inflating: test.p                  \n",
            "  inflating: train.p                 \n",
            "  inflating: valid.p                 \n"
          ],
          "name": "stdout"
        }
      ]
    },
    {
      "cell_type": "code",
      "metadata": {
        "id": "9qqG9oodlu-s",
        "colab_type": "code",
        "colab": {}
      },
      "source": [
        "import pickle\n",
        "train = pickle.load( open( \"train.p\", \"rb\" ) )\n",
        "test = pickle.load( open( \"test.p\", \"rb\" ) )\n",
        "valid = pickle.load( open( \"valid.p\", \"rb\" ) )"
      ],
      "execution_count": 0,
      "outputs": []
    },
    {
      "cell_type": "code",
      "metadata": {
        "id": "bA5KjJw2l5x6",
        "colab_type": "code",
        "colab": {}
      },
      "source": [
        "X_train, y_train = train['features'], train['labels']\n",
        "X_valid, y_valid = valid['features'], valid['labels']\n",
        "X_test, y_test = test['features'], test['labels']"
      ],
      "execution_count": 0,
      "outputs": []
    },
    {
      "cell_type": "code",
      "metadata": {
        "id": "Ljyea_K9mmaz",
        "colab_type": "code",
        "colab": {}
      },
      "source": [
        "import numpy as np\n",
        "import pandas as pd\n",
        "from sklearn.preprocessing import LabelEncoder,OneHotEncoder,StandardScaler\n",
        "import matplotlib.pyplot as plt\n",
        "from keras.models import Sequential\n",
        "from keras.layers import Dense\n",
        "from keras.layers import Conv2D\n",
        "from keras.layers import MaxPooling2D\n",
        "from keras.callbacks import ReduceLROnPlateau\n",
        "from keras.layers import Flatten,Dropout\n",
        "from keras.layers import BatchNormalization,Average\n",
        "import collections"
      ],
      "execution_count": 0,
      "outputs": []
    },
    {
      "cell_type": "code",
      "metadata": {
        "id": "D3vu0Gbsm7il",
        "colab_type": "code",
        "outputId": "c5559350-da11-4891-c429-14a11f27cee3",
        "colab": {
          "base_uri": "https://localhost:8080/",
          "height": 354
        }
      },
      "source": [
        "onehotencoder = OneHotEncoder(categorical_features=[0])\n",
        "y_train = np.reshape(y_train,(-1,1))\n",
        "y_train = onehotencoder.fit_transform(y_train).toarray()\n",
        "y_valid = np.reshape(y_valid,(-1,1))\n",
        "y_valid = onehotencoder.fit_transform(y_valid).toarray()\n",
        "y_test = np.reshape(y_test,(-1,1))\n",
        "y_test = onehotencoder.fit_transform(y_test).toarray()"
      ],
      "execution_count": 0,
      "outputs": [
        {
          "output_type": "stream",
          "text": [
            "/usr/local/lib/python3.6/dist-packages/sklearn/preprocessing/_encoders.py:415: FutureWarning: The handling of integer data will change in version 0.22. Currently, the categories are determined based on the range [0, max(values)], while in the future they will be determined based on the unique values.\n",
            "If you want the future behaviour and silence this warning, you can specify \"categories='auto'\".\n",
            "In case you used a LabelEncoder before this OneHotEncoder to convert the categories to integers, then you can now use the OneHotEncoder directly.\n",
            "  warnings.warn(msg, FutureWarning)\n",
            "/usr/local/lib/python3.6/dist-packages/sklearn/preprocessing/_encoders.py:451: DeprecationWarning: The 'categorical_features' keyword is deprecated in version 0.20 and will be removed in 0.22. You can use the ColumnTransformer instead.\n",
            "  \"use the ColumnTransformer instead.\", DeprecationWarning)\n",
            "/usr/local/lib/python3.6/dist-packages/sklearn/preprocessing/_encoders.py:415: FutureWarning: The handling of integer data will change in version 0.22. Currently, the categories are determined based on the range [0, max(values)], while in the future they will be determined based on the unique values.\n",
            "If you want the future behaviour and silence this warning, you can specify \"categories='auto'\".\n",
            "In case you used a LabelEncoder before this OneHotEncoder to convert the categories to integers, then you can now use the OneHotEncoder directly.\n",
            "  warnings.warn(msg, FutureWarning)\n",
            "/usr/local/lib/python3.6/dist-packages/sklearn/preprocessing/_encoders.py:451: DeprecationWarning: The 'categorical_features' keyword is deprecated in version 0.20 and will be removed in 0.22. You can use the ColumnTransformer instead.\n",
            "  \"use the ColumnTransformer instead.\", DeprecationWarning)\n",
            "/usr/local/lib/python3.6/dist-packages/sklearn/preprocessing/_encoders.py:415: FutureWarning: The handling of integer data will change in version 0.22. Currently, the categories are determined based on the range [0, max(values)], while in the future they will be determined based on the unique values.\n",
            "If you want the future behaviour and silence this warning, you can specify \"categories='auto'\".\n",
            "In case you used a LabelEncoder before this OneHotEncoder to convert the categories to integers, then you can now use the OneHotEncoder directly.\n",
            "  warnings.warn(msg, FutureWarning)\n",
            "/usr/local/lib/python3.6/dist-packages/sklearn/preprocessing/_encoders.py:451: DeprecationWarning: The 'categorical_features' keyword is deprecated in version 0.20 and will be removed in 0.22. You can use the ColumnTransformer instead.\n",
            "  \"use the ColumnTransformer instead.\", DeprecationWarning)\n"
          ],
          "name": "stderr"
        }
      ]
    },
    {
      "cell_type": "code",
      "metadata": {
        "id": "IaNavThjnTI4",
        "colab_type": "code",
        "outputId": "45765430-9e71-4ead-97e7-d43b5633f054",
        "colab": {
          "base_uri": "https://localhost:8080/",
          "height": 72
        }
      },
      "source": [
        "from keras.preprocessing.image import ImageDataGenerator\n",
        "train_datagen = ImageDataGenerator(\n",
        "    featurewise_std_normalization=True,\n",
        "    rotation_range=20,\n",
        "    width_shift_range=0.2,\n",
        "    height_shift_range=0.2\n",
        "    )\n",
        "test_datagen = ImageDataGenerator(\n",
        "    featurewise_std_normalization=True,\n",
        "    )"
      ],
      "execution_count": 0,
      "outputs": [
        {
          "output_type": "stream",
          "text": [
            "/usr/local/lib/python3.6/dist-packages/keras_preprocessing/image/image_data_generator.py:348: UserWarning: This ImageDataGenerator specifies `featurewise_std_normalization`, which overrides setting of `featurewise_center`.\n",
            "  warnings.warn('This ImageDataGenerator specifies '\n"
          ],
          "name": "stderr"
        }
      ]
    },
    {
      "cell_type": "code",
      "metadata": {
        "id": "i0T6esH_nqDl",
        "colab_type": "code",
        "outputId": "b2b4bfa4-e57e-4fdc-d620-0af4dae32b4e",
        "colab": {
          "base_uri": "https://localhost:8080/",
          "height": 1000
        }
      },
      "source": [
        "classifier = Sequential()\n",
        "classifier.add(Conv2D(64,5,5,input_shape = (32,32,3),activation = 'elu'))\n",
        "classifier.add(BatchNormalization())\n",
        "classifier.add(BatchNormalization())\n",
        "classifier.add(Conv2D(128,5,5,activation = 'elu'))\n",
        "classifier.add(BatchNormalization())\n",
        "classifier.add(MaxPooling2D(pool_size=(2, 2)))\n",
        "classifier.add(Dropout(0.2))\n",
        "classifier.add(Conv2D(256,5,5,activation = 'elu'))\n",
        "classifier.add(BatchNormalization())\n",
        "classifier.add(Dropout(0.25))\n",
        "classifier.add(MaxPooling2D(pool_size=(2, 2)))\n",
        "classifier.add(BatchNormalization())\n",
        "classifier.add(Dropout(0.4))\n",
        "classifier.add(Flatten())\n",
        "classifier.add(Dense(output_dim = 1000, init = 'uniform' , activation ='elu',input_dim = 784))\n",
        "#classifier.add(Dense(output_dim = 1000, init = 'uniform' , activation ='relu'))\n",
        "classifier.add(Dense(output_dim = 43, init = 'uniform' , activation ='softmax'))\n",
        "\n",
        "#compiling model\n",
        "classifier.compile(optimizer = 'adam',loss = 'categorical_crossentropy' , metrics = ['accuracy'])\n",
        "reduce_lr = ReduceLROnPlateau(monitor='loss', factor=0.1,patience=1, min_lr=0.0001)\n",
        "callbacks_list = [reduce_lr]\n",
        "#fitting cnn to training set\n",
        "classifier.fit_generator(train_datagen.flow(X_train, y_train, batch_size=300),steps_per_epoch=len(X_train) / 300,validation_data=test_datagen.flow(X_valid,y_valid,batch_size = 300), validation_steps=len(X_valid)/300,nb_epoch = 20 ,callbacks = callbacks_list)"
      ],
      "execution_count": 0,
      "outputs": [
        {
          "output_type": "stream",
          "text": [
            "/usr/local/lib/python3.6/dist-packages/ipykernel_launcher.py:2: UserWarning: Update your `Conv2D` call to the Keras 2 API: `Conv2D(64, (5, 5), input_shape=(32, 32, 3..., activation=\"elu\")`\n",
            "  \n",
            "/usr/local/lib/python3.6/dist-packages/ipykernel_launcher.py:7: UserWarning: Update your `Conv2D` call to the Keras 2 API: `Conv2D(128, (5, 5), activation=\"elu\")`\n",
            "  import sys\n",
            "/usr/local/lib/python3.6/dist-packages/ipykernel_launcher.py:12: UserWarning: Update your `Conv2D` call to the Keras 2 API: `Conv2D(256, (5, 5), activation=\"elu\")`\n",
            "  if sys.path[0] == '':\n",
            "/usr/local/lib/python3.6/dist-packages/ipykernel_launcher.py:19: UserWarning: Update your `Dense` call to the Keras 2 API: `Dense(activation=\"elu\", input_dim=784, units=1000, kernel_initializer=\"uniform\")`\n",
            "/usr/local/lib/python3.6/dist-packages/ipykernel_launcher.py:21: UserWarning: Update your `Dense` call to the Keras 2 API: `Dense(activation=\"softmax\", units=43, kernel_initializer=\"uniform\")`\n",
            "/usr/local/lib/python3.6/dist-packages/ipykernel_launcher.py:28: UserWarning: The semantics of the Keras 2 argument `steps_per_epoch` is not the same as the Keras 1 argument `samples_per_epoch`. `steps_per_epoch` is the number of batches to draw from the generator at each epoch. Basically steps_per_epoch = samples_per_epoch/batch_size. Similarly `nb_val_samples`->`validation_steps` and `val_samples`->`steps` arguments have changed. Update your method calls accordingly.\n",
            "/usr/local/lib/python3.6/dist-packages/ipykernel_launcher.py:28: UserWarning: Update your `fit_generator` call to the Keras 2 API: `fit_generator(<keras_pre..., steps_per_epoch=115.996666..., validation_data=<keras_pre..., validation_steps=14.7, callbacks=[<keras.ca..., epochs=40)`\n"
          ],
          "name": "stderr"
        },
        {
          "output_type": "stream",
          "text": [
            "Epoch 1/40\n"
          ],
          "name": "stdout"
        },
        {
          "output_type": "stream",
          "text": [
            "/usr/local/lib/python3.6/dist-packages/keras_preprocessing/image/image_data_generator.py:716: UserWarning: This ImageDataGenerator specifies `featurewise_center`, but it hasn't been fit on any training data. Fit it first by calling `.fit(numpy_data)`.\n",
            "  warnings.warn('This ImageDataGenerator specifies '\n",
            "/usr/local/lib/python3.6/dist-packages/keras_preprocessing/image/image_data_generator.py:724: UserWarning: This ImageDataGenerator specifies `featurewise_std_normalization`, but it hasn't been fit on any training data. Fit it first by calling `.fit(numpy_data)`.\n",
            "  warnings.warn('This ImageDataGenerator specifies '\n"
          ],
          "name": "stderr"
        },
        {
          "output_type": "stream",
          "text": [
            "116/115 [==============================] - 25s 219ms/step - loss: 2.2916 - acc: 0.4205 - val_loss: 2.9092 - val_acc: 0.4231\n",
            "Epoch 2/40\n",
            "116/115 [==============================] - 22s 191ms/step - loss: 0.8481 - acc: 0.7352 - val_loss: 1.4906 - val_acc: 0.6175\n",
            "Epoch 3/40\n",
            "116/115 [==============================] - 23s 195ms/step - loss: 0.3727 - acc: 0.8797 - val_loss: 1.0403 - val_acc: 0.7528\n",
            "Epoch 4/40\n",
            "116/115 [==============================] - 23s 196ms/step - loss: 0.2281 - acc: 0.9270 - val_loss: 0.6947 - val_acc: 0.8197\n",
            "Epoch 5/40\n",
            "116/115 [==============================] - 22s 193ms/step - loss: 0.1568 - acc: 0.9506 - val_loss: 0.4712 - val_acc: 0.9002\n",
            "Epoch 6/40\n",
            "116/115 [==============================] - 23s 196ms/step - loss: 0.1234 - acc: 0.9606 - val_loss: 0.4190 - val_acc: 0.9050\n",
            "Epoch 7/40\n",
            "116/115 [==============================] - 22s 193ms/step - loss: 0.0928 - acc: 0.9708 - val_loss: 0.4179 - val_acc: 0.9136\n",
            "Epoch 8/40\n",
            "116/115 [==============================] - 24s 204ms/step - loss: 0.0956 - acc: 0.9692 - val_loss: 0.4022 - val_acc: 0.8968\n",
            "Epoch 9/40\n",
            "116/115 [==============================] - 23s 195ms/step - loss: 0.0542 - acc: 0.9837 - val_loss: 0.2554 - val_acc: 0.9594\n",
            "Epoch 10/40\n",
            "116/115 [==============================] - 22s 194ms/step - loss: 0.0386 - acc: 0.9886 - val_loss: 0.2230 - val_acc: 0.9637\n",
            "Epoch 11/40\n",
            "116/115 [==============================] - 23s 195ms/step - loss: 0.0317 - acc: 0.9900 - val_loss: 0.2099 - val_acc: 0.9655\n",
            "Epoch 12/40\n",
            "116/115 [==============================] - 22s 193ms/step - loss: 0.0290 - acc: 0.9913 - val_loss: 0.2088 - val_acc: 0.9671\n",
            "Epoch 13/40\n",
            "116/115 [==============================] - 22s 192ms/step - loss: 0.0270 - acc: 0.9918 - val_loss: 0.2058 - val_acc: 0.9660\n",
            "Epoch 14/40\n",
            "116/115 [==============================] - 23s 201ms/step - loss: 0.0256 - acc: 0.9925 - val_loss: 0.2094 - val_acc: 0.9669\n",
            "Epoch 15/40\n",
            "116/115 [==============================] - 23s 195ms/step - loss: 0.0238 - acc: 0.9928 - val_loss: 0.2078 - val_acc: 0.9671\n",
            "Epoch 16/40\n",
            "116/115 [==============================] - 22s 192ms/step - loss: 0.0227 - acc: 0.9932 - val_loss: 0.2183 - val_acc: 0.9660\n",
            "Epoch 17/40\n",
            "116/115 [==============================] - 22s 191ms/step - loss: 0.0210 - acc: 0.9937 - val_loss: 0.2084 - val_acc: 0.9671\n",
            "Epoch 18/40\n",
            "116/115 [==============================] - 22s 192ms/step - loss: 0.0215 - acc: 0.9938 - val_loss: 0.2084 - val_acc: 0.9651\n",
            "Epoch 19/40\n",
            "116/115 [==============================] - 22s 189ms/step - loss: 0.0183 - acc: 0.9945 - val_loss: 0.2205 - val_acc: 0.9633\n",
            "Epoch 20/40\n",
            "116/115 [==============================] - 22s 188ms/step - loss: 0.0181 - acc: 0.9945 - val_loss: 0.2161 - val_acc: 0.9642\n",
            "Epoch 21/40\n",
            "116/115 [==============================] - 22s 189ms/step - loss: 0.0182 - acc: 0.9945 - val_loss: 0.2002 - val_acc: 0.9664\n",
            "Epoch 22/40\n",
            "116/115 [==============================] - 22s 190ms/step - loss: 0.0169 - acc: 0.9947 - val_loss: 0.2198 - val_acc: 0.9667\n",
            "Epoch 23/40\n",
            "116/115 [==============================] - 22s 191ms/step - loss: 0.0172 - acc: 0.9950 - val_loss: 0.1998 - val_acc: 0.9678\n",
            "Epoch 24/40\n",
            "116/115 [==============================] - 22s 187ms/step - loss: 0.0151 - acc: 0.9955 - val_loss: 0.1906 - val_acc: 0.9705\n",
            "Epoch 25/40\n",
            "116/115 [==============================] - 22s 189ms/step - loss: 0.0144 - acc: 0.9952 - val_loss: 0.1847 - val_acc: 0.9683\n",
            "Epoch 26/40\n",
            "116/115 [==============================] - 22s 189ms/step - loss: 0.0146 - acc: 0.9957 - val_loss: 0.1916 - val_acc: 0.9683\n",
            "Epoch 27/40\n",
            "116/115 [==============================] - 22s 192ms/step - loss: 0.0144 - acc: 0.9960 - val_loss: 0.1874 - val_acc: 0.9687\n",
            "Epoch 28/40\n",
            "116/115 [==============================] - 22s 193ms/step - loss: 0.0152 - acc: 0.9955 - val_loss: 0.1803 - val_acc: 0.9692\n",
            "Epoch 29/40\n",
            "116/115 [==============================] - 22s 192ms/step - loss: 0.0130 - acc: 0.9963 - val_loss: 0.1934 - val_acc: 0.9726\n",
            "Epoch 30/40\n",
            "116/115 [==============================] - 22s 191ms/step - loss: 0.0132 - acc: 0.9959 - val_loss: 0.1966 - val_acc: 0.9687\n",
            "Epoch 31/40\n",
            "116/115 [==============================] - 22s 190ms/step - loss: 0.0136 - acc: 0.9962 - val_loss: 0.2127 - val_acc: 0.9671\n",
            "Epoch 32/40\n",
            "116/115 [==============================] - 22s 193ms/step - loss: 0.0115 - acc: 0.9965 - val_loss: 0.1815 - val_acc: 0.9687\n",
            "Epoch 33/40\n",
            "116/115 [==============================] - 22s 191ms/step - loss: 0.0111 - acc: 0.9967 - val_loss: 0.1691 - val_acc: 0.9664\n",
            "Epoch 34/40\n",
            "116/115 [==============================] - 22s 187ms/step - loss: 0.0124 - acc: 0.9963 - val_loss: 0.1948 - val_acc: 0.9689\n",
            "Epoch 35/40\n",
            "116/115 [==============================] - 22s 190ms/step - loss: 0.0117 - acc: 0.9964 - val_loss: 0.1364 - val_acc: 0.9776\n",
            "Epoch 36/40\n",
            "116/115 [==============================] - 22s 191ms/step - loss: 0.0117 - acc: 0.9965 - val_loss: 0.1432 - val_acc: 0.9653\n",
            "Epoch 37/40\n",
            "116/115 [==============================] - 23s 195ms/step - loss: 0.0094 - acc: 0.9975 - val_loss: 0.1727 - val_acc: 0.9692\n",
            "Epoch 38/40\n",
            "116/115 [==============================] - 22s 193ms/step - loss: 0.0133 - acc: 0.9961 - val_loss: 0.1909 - val_acc: 0.9689\n",
            "Epoch 39/40\n",
            "116/115 [==============================] - 22s 192ms/step - loss: 0.0117 - acc: 0.9972 - val_loss: 0.1957 - val_acc: 0.9669\n",
            "Epoch 40/40\n",
            "116/115 [==============================] - 22s 193ms/step - loss: 0.0121 - acc: 0.9960 - val_loss: 0.1882 - val_acc: 0.9685\n"
          ],
          "name": "stdout"
        },
        {
          "output_type": "execute_result",
          "data": {
            "text/plain": [
              "<keras.callbacks.History at 0x7f336c1179e8>"
            ]
          },
          "metadata": {
            "tags": []
          },
          "execution_count": 31
        }
      ]
    },
    {
      "cell_type": "code",
      "metadata": {
        "id": "v9wjPeR19MH2",
        "colab_type": "code",
        "outputId": "1963e370-404b-458f-b50b-bbf4d3542a5f",
        "colab": {
          "base_uri": "https://localhost:8080/",
          "height": 35
        }
      },
      "source": [
        "scores = classifier.evaluate(X_test,y_test)"
      ],
      "execution_count": 0,
      "outputs": [
        {
          "output_type": "stream",
          "text": [
            "12630/12630 [==============================] - 4s 285us/step\n"
          ],
          "name": "stdout"
        }
      ]
    },
    {
      "cell_type": "code",
      "metadata": {
        "id": "zplyF2PD9TQs",
        "colab_type": "code",
        "outputId": "ca8b2661-bbf2-4a5b-e25d-117af8e2594b",
        "colab": {
          "base_uri": "https://localhost:8080/",
          "height": 35
        }
      },
      "source": [
        "print(scores)"
      ],
      "execution_count": 0,
      "outputs": [
        {
          "output_type": "stream",
          "text": [
            "[0.23972550659421193, 0.9538400633129352]\n"
          ],
          "name": "stdout"
        }
      ]
    },
    {
      "cell_type": "code",
      "metadata": {
        "id": "5Ee6jLkvvc3s",
        "colab_type": "code",
        "colab": {}
      },
      "source": [
        "classifier.save(\"trafficsignclassifier.h5\")"
      ],
      "execution_count": 0,
      "outputs": []
    }
  ]
}