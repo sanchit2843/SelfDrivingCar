{
  "nbformat": 4,
  "nbformat_minor": 0,
  "metadata": {
    "colab": {
      "name": "selfdriving-keras.ipynb",
      "version": "0.3.2",
      "provenance": [],
      "include_colab_link": true
    },
    "kernelspec": {
      "name": "python3",
      "display_name": "Python 3"
    },
    "accelerator": "GPU"
  },
  "cells": [
    {
      "cell_type": "markdown",
      "metadata": {
        "id": "view-in-github",
        "colab_type": "text"
      },
      "source": [
        "<a href=\"https://colab.research.google.com/github/sanchit2843/SelfDrivingCar/blob/master/steer_keras.ipynb\" target=\"_parent\"><img src=\"https://colab.research.google.com/assets/colab-badge.svg\" alt=\"Open In Colab\"/></a>"
      ]
    },
    {
      "cell_type": "code",
      "metadata": {
        "id": "K3bgbub3Jy0Z",
        "colab_type": "code",
        "colab": {
          "base_uri": "https://localhost:8080/",
          "height": 70
        },
        "outputId": "96075311-9de4-4a41-a981-c9921a24940c"
      },
      "source": [
        "!pip install googledrivedownloader\n",
        "from google_drive_downloader import GoogleDriveDownloader as gdd\n",
        "\n",
        "gdd.download_file_from_google_drive(file_id='0B-KJCaaF7elleG1RbzVPZWV4Tlk',\n",
        "                                    dest_path='/content/data.zip',\n",
        "                                    unzip=True)"
      ],
      "execution_count": 1,
      "outputs": [
        {
          "output_type": "stream",
          "text": [
            "Requirement already satisfied: googledrivedownloader in /usr/local/lib/python3.6/dist-packages (0.4)\n",
            "Downloading 0B-KJCaaF7elleG1RbzVPZWV4Tlk into /content/data.zip... Done.\n",
            "Unzipping...Done.\n"
          ],
          "name": "stdout"
        }
      ]
    },
    {
      "cell_type": "code",
      "metadata": {
        "id": "2vHjB0c4L4Aq",
        "colab_type": "code",
        "colab": {}
      },
      "source": [
        "import pandas as pd\n",
        "data = pd.read_csv('/content/driving_dataset/data.txt', header = None)"
      ],
      "execution_count": 0,
      "outputs": []
    },
    {
      "cell_type": "code",
      "metadata": {
        "id": "76ayK_SBQMI0",
        "colab_type": "code",
        "colab": {}
      },
      "source": [
        "train_list = list()\n",
        "for i in range(len(data)):\n",
        "  tex = data.iloc[i][0]\n",
        "  name,angle = tex.split(' ')\n",
        "  train_list.append((name,angle))"
      ],
      "execution_count": 0,
      "outputs": []
    },
    {
      "cell_type": "code",
      "metadata": {
        "id": "bKi9pLz8KRVP",
        "colab_type": "code",
        "colab": {}
      },
      "source": [
        "import random\n",
        "import math\n",
        "def data_loader(path,label_list,batch_size):\n",
        "  while True:\n",
        "    batch_paths =np.random.choice(a = len(label_list),size = batch_size)\n",
        "    batch_input = []\n",
        "    batch_output = [] \n",
        "    for index in batch_paths:\n",
        "        input_paths,angle = label_list[index]\n",
        "        path1 = os.path.join(path,input_paths)\n",
        "        image = cv2.imread(path1)\n",
        "        image = image[-150:]\n",
        "        image = cv2.resize(image,(200,66))\n",
        "        image = image/255.0\n",
        "        \n",
        "        batch_input += [image]\n",
        "        batch_output += [float(angle)*math.pi/180]\n",
        "    # Return a tuple of (input,output) to feed the network\n",
        "    batch_x = np.array( batch_input )\n",
        "    batch_y = np.array( batch_output )\n",
        "\n",
        "    yield( batch_x, batch_y )"
      ],
      "execution_count": 0,
      "outputs": []
    },
    {
      "cell_type": "code",
      "metadata": {
        "id": "TwS-AGyEuUJT",
        "colab_type": "code",
        "colab": {}
      },
      "source": [
        "train = train_list[:int(len(train_list)*0.8)]\n",
        "test = train_list[int(len(train_list)*0.8):]"
      ],
      "execution_count": 0,
      "outputs": []
    },
    {
      "cell_type": "code",
      "metadata": {
        "id": "LY6u0VtyVOH1",
        "colab_type": "code",
        "colab": {}
      },
      "source": [
        "import keras\n",
        "adam = keras.optimizers.Adam(lr = 1e-4,decay=1e-3)"
      ],
      "execution_count": 0,
      "outputs": []
    },
    {
      "cell_type": "code",
      "metadata": {
        "id": "EqkKX4WjQEMd",
        "colab_type": "code",
        "colab": {
          "base_uri": "https://localhost:8080/",
          "height": 723
        },
        "outputId": "66e47867-d7a3-481c-bc47-fb5821753135"
      },
      "source": [
        "from sklearn.model_selection import train_test_split\n",
        "from keras.models import Sequential\n",
        "from keras.optimizers import Adam\n",
        "from keras.callbacks import ModelCheckpoint\n",
        "from keras.layers import Lambda, Conv2D, MaxPooling2D, Dropout, Dense, Flatten\n",
        "model = Sequential()\n",
        "model.add(Conv2D(24, 5, 5, activation='elu', subsample=(2, 2),input_shape = (66,200,3)))\n",
        "model.add(Conv2D(36, 5, 5, activation='elu', subsample=(2, 2)))\n",
        "model.add(Conv2D(48, 5, 5, activation='elu', subsample=(2, 2)))\n",
        "model.add(Conv2D(64, 3, 3, activation='elu'))\n",
        "model.add(Conv2D(64, 3, 3, activation='elu'))\n",
        "model.add(Dropout(0.2))\n",
        "model.add(Flatten())\n",
        "model.add(Dense(100, activation='elu'))\n",
        "model.add(Dense(50, activation='elu'))\n",
        "model.add(Dense(10, activation='elu'))\n",
        "model.add(Dense(1))\n",
        "model.compile(loss='mean_squared_error', optimizer= adam , metrics = ['mse'])\n",
        "model.summary()"
      ],
      "execution_count": 60,
      "outputs": [
        {
          "output_type": "stream",
          "text": [
            "_________________________________________________________________\n",
            "Layer (type)                 Output Shape              Param #   \n",
            "=================================================================\n",
            "conv2d_46 (Conv2D)           (None, 31, 98, 24)        1824      \n",
            "_________________________________________________________________\n",
            "conv2d_47 (Conv2D)           (None, 14, 47, 36)        21636     \n",
            "_________________________________________________________________\n",
            "conv2d_48 (Conv2D)           (None, 5, 22, 48)         43248     \n",
            "_________________________________________________________________\n",
            "conv2d_49 (Conv2D)           (None, 3, 20, 64)         27712     \n",
            "_________________________________________________________________\n",
            "conv2d_50 (Conv2D)           (None, 1, 18, 64)         36928     \n",
            "_________________________________________________________________\n",
            "dropout_9 (Dropout)          (None, 1, 18, 64)         0         \n",
            "_________________________________________________________________\n",
            "flatten_9 (Flatten)          (None, 1152)              0         \n",
            "_________________________________________________________________\n",
            "dense_33 (Dense)             (None, 100)               115300    \n",
            "_________________________________________________________________\n",
            "dense_34 (Dense)             (None, 50)                5050      \n",
            "_________________________________________________________________\n",
            "dense_35 (Dense)             (None, 10)                510       \n",
            "_________________________________________________________________\n",
            "dense_36 (Dense)             (None, 1)                 11        \n",
            "=================================================================\n",
            "Total params: 252,219\n",
            "Trainable params: 252,219\n",
            "Non-trainable params: 0\n",
            "_________________________________________________________________\n"
          ],
          "name": "stdout"
        },
        {
          "output_type": "stream",
          "text": [
            "/usr/local/lib/python3.6/dist-packages/ipykernel_launcher.py:7: UserWarning: Update your `Conv2D` call to the Keras 2 API: `Conv2D(24, (5, 5), activation=\"elu\", input_shape=(66, 200, ..., strides=(2, 2))`\n",
            "  import sys\n",
            "/usr/local/lib/python3.6/dist-packages/ipykernel_launcher.py:8: UserWarning: Update your `Conv2D` call to the Keras 2 API: `Conv2D(36, (5, 5), activation=\"elu\", strides=(2, 2))`\n",
            "  \n",
            "/usr/local/lib/python3.6/dist-packages/ipykernel_launcher.py:9: UserWarning: Update your `Conv2D` call to the Keras 2 API: `Conv2D(48, (5, 5), activation=\"elu\", strides=(2, 2))`\n",
            "  if __name__ == '__main__':\n",
            "/usr/local/lib/python3.6/dist-packages/ipykernel_launcher.py:10: UserWarning: Update your `Conv2D` call to the Keras 2 API: `Conv2D(64, (3, 3), activation=\"elu\")`\n",
            "  # Remove the CWD from sys.path while we load stuff.\n",
            "/usr/local/lib/python3.6/dist-packages/ipykernel_launcher.py:11: UserWarning: Update your `Conv2D` call to the Keras 2 API: `Conv2D(64, (3, 3), activation=\"elu\")`\n",
            "  # This is added back by InteractiveShellApp.init_path()\n"
          ],
          "name": "stderr"
        }
      ]
    },
    {
      "cell_type": "code",
      "metadata": {
        "id": "5CCBhr_6VC9h",
        "colab_type": "code",
        "colab": {
          "base_uri": "https://localhost:8080/",
          "height": 1000
        },
        "outputId": "73cbae7c-d000-496b-8f74-2a1bc64a3a88"
      },
      "source": [
        "train_gen = data_loader('/content/driving_dataset',train,64)\n",
        "model.fit_generator(generator = train_gen,steps_per_epoch = len(train)/64,nb_epoch  =32)"
      ],
      "execution_count": 62,
      "outputs": [
        {
          "output_type": "stream",
          "text": [
            "/usr/local/lib/python3.6/dist-packages/ipykernel_launcher.py:2: UserWarning: The semantics of the Keras 2 argument `steps_per_epoch` is not the same as the Keras 1 argument `samples_per_epoch`. `steps_per_epoch` is the number of batches to draw from the generator at each epoch. Basically steps_per_epoch = samples_per_epoch/batch_size. Similarly `nb_val_samples`->`validation_steps` and `val_samples`->`steps` arguments have changed. Update your method calls accordingly.\n",
            "  \n",
            "/usr/local/lib/python3.6/dist-packages/ipykernel_launcher.py:2: UserWarning: Update your `fit_generator` call to the Keras 2 API: `fit_generator(generator=<generator..., steps_per_epoch=709.46875, epochs=32)`\n",
            "  \n"
          ],
          "name": "stderr"
        },
        {
          "output_type": "stream",
          "text": [
            "Epoch 1/32\n",
            "710/709 [==============================] - 139s 195ms/step - loss: 0.2181 - mean_squared_error: 0.2181\n",
            "Epoch 2/32\n",
            "710/709 [==============================] - 145s 205ms/step - loss: 0.1846 - mean_squared_error: 0.1846\n",
            "Epoch 3/32\n",
            "710/709 [==============================] - 196s 276ms/step - loss: 0.1695 - mean_squared_error: 0.1695\n",
            "Epoch 4/32\n",
            "710/709 [==============================] - 194s 274ms/step - loss: 0.1359 - mean_squared_error: 0.1359\n",
            "Epoch 5/32\n",
            "710/709 [==============================] - 192s 271ms/step - loss: 0.1341 - mean_squared_error: 0.1341\n",
            "Epoch 6/32\n",
            "710/709 [==============================] - 192s 270ms/step - loss: 0.1205 - mean_squared_error: 0.1205\n",
            "Epoch 7/32\n",
            "710/709 [==============================] - 191s 269ms/step - loss: 0.1144 - mean_squared_error: 0.1144\n",
            "Epoch 8/32\n",
            "710/709 [==============================] - 189s 266ms/step - loss: 0.1097 - mean_squared_error: 0.1097\n",
            "Epoch 9/32\n",
            "710/709 [==============================] - 188s 265ms/step - loss: 0.1025 - mean_squared_error: 0.1025\n",
            "Epoch 10/32\n",
            "710/709 [==============================] - 188s 265ms/step - loss: 0.0909 - mean_squared_error: 0.0909\n",
            "Epoch 11/32\n",
            "710/709 [==============================] - 191s 269ms/step - loss: 0.0873 - mean_squared_error: 0.0873\n",
            "Epoch 12/32\n",
            "710/709 [==============================] - 185s 261ms/step - loss: 0.0826 - mean_squared_error: 0.0826\n",
            "Epoch 13/32\n",
            "710/709 [==============================] - 185s 260ms/step - loss: 0.0879 - mean_squared_error: 0.0879\n",
            "Epoch 14/32\n",
            "710/709 [==============================] - 185s 261ms/step - loss: 0.0816 - mean_squared_error: 0.0816\n",
            "Epoch 15/32\n",
            "710/709 [==============================] - 185s 260ms/step - loss: 0.0859 - mean_squared_error: 0.0859\n",
            "Epoch 16/32\n",
            "710/709 [==============================] - 186s 261ms/step - loss: 0.0790 - mean_squared_error: 0.0790\n",
            "Epoch 17/32\n",
            "710/709 [==============================] - 186s 262ms/step - loss: 0.0707 - mean_squared_error: 0.0707\n",
            "Epoch 18/32\n",
            "710/709 [==============================] - 189s 266ms/step - loss: 0.0709 - mean_squared_error: 0.0709\n",
            "Epoch 19/32\n",
            "710/709 [==============================] - 189s 266ms/step - loss: 0.0693 - mean_squared_error: 0.0693\n",
            "Epoch 20/32\n",
            "710/709 [==============================] - 191s 270ms/step - loss: 0.0683 - mean_squared_error: 0.0683\n",
            "Epoch 21/32\n",
            "710/709 [==============================] - 191s 270ms/step - loss: 0.0687 - mean_squared_error: 0.0687\n",
            "Epoch 22/32\n",
            "710/709 [==============================] - 193s 272ms/step - loss: 0.0675 - mean_squared_error: 0.0675\n",
            "Epoch 23/32\n",
            "710/709 [==============================] - 192s 270ms/step - loss: 0.0662 - mean_squared_error: 0.0662\n",
            "Epoch 24/32\n",
            "710/709 [==============================] - 191s 269ms/step - loss: 0.0640 - mean_squared_error: 0.0640\n",
            "Epoch 25/32\n",
            "710/709 [==============================] - 192s 271ms/step - loss: 0.0659 - mean_squared_error: 0.0659\n",
            "Epoch 26/32\n",
            "710/709 [==============================] - 190s 268ms/step - loss: 0.0649 - mean_squared_error: 0.0649\n",
            "Epoch 27/32\n",
            "710/709 [==============================] - 189s 266ms/step - loss: 0.0593 - mean_squared_error: 0.0593\n",
            "Epoch 28/32\n",
            "710/709 [==============================] - 179s 252ms/step - loss: 0.0589 - mean_squared_error: 0.0589\n",
            "Epoch 29/32\n",
            "710/709 [==============================] - 128s 180ms/step - loss: 0.0598 - mean_squared_error: 0.0598\n",
            "Epoch 30/32\n",
            "710/709 [==============================] - 128s 181ms/step - loss: 0.0578 - mean_squared_error: 0.0578\n",
            "Epoch 31/32\n",
            "710/709 [==============================] - 129s 181ms/step - loss: 0.0590 - mean_squared_error: 0.0590\n",
            "Epoch 32/32\n",
            "710/709 [==============================] - 129s 181ms/step - loss: 0.0581 - mean_squared_error: 0.0581\n"
          ],
          "name": "stdout"
        },
        {
          "output_type": "execute_result",
          "data": {
            "text/plain": [
              "<keras.callbacks.History at 0x7f1fd4d196a0>"
            ]
          },
          "metadata": {
            "tags": []
          },
          "execution_count": 62
        }
      ]
    },
    {
      "cell_type": "code",
      "metadata": {
        "id": "ZcrP3nlruM_A",
        "colab_type": "code",
        "colab": {}
      },
      "source": [
        "test_gen =  data_loader('/content/driving_dataset',test,1)"
      ],
      "execution_count": 0,
      "outputs": []
    },
    {
      "cell_type": "code",
      "metadata": {
        "id": "WBG1yNBvutgT",
        "colab_type": "code",
        "colab": {}
      },
      "source": [
        "for (image,angle) in test_gen:\n",
        "  pred = model"
      ],
      "execution_count": 0,
      "outputs": []
    }
  ]
}